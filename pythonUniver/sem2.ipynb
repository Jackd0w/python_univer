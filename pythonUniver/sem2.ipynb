{
 "cells": [
  {
   "cell_type": "markdown",
   "metadata": {},
   "source": [
    "Лабораторная 2 Задание 1"
   ]
  },
  {
   "cell_type": "code",
   "execution_count": 5,
   "metadata": {},
   "outputs": [
    {
     "name": "stdout",
     "output_type": "stream",
     "text": [
      "X=-2.00    Y=1.73\n"
     ]
    }
   ],
   "source": [
    "import math\n",
    "\n",
    "x = float(input(\"ВВедите значение x: \"))\n",
    "if x < -6:\n",
    "    y = 1\n",
    "elif x >= -6 and x < -4:\n",
    "    y = (x + 8) / 2\n",
    "\n",
    "elif x >= -4 and x < 0:\n",
    "    y = math.sqrt(pow(x, 2) - 1)\n",
    "\n",
    "elif x >= 0 and x < 2:\n",
    "    y = - math.sqrt(pow(x, 2 - 2))\n",
    "elif x >= 2 and x < 3:\n",
    "    y = x - 2\n",
    "\n",
    "print(\"X={0:.2f}    Y={1:.2f}\".format(x, y))\n",
    "\n"
   ]
  },
  {
   "cell_type": "markdown",
   "metadata": {},
   "source": [
    "Задание 2"
   ]
  },
  {
   "cell_type": "code",
   "execution_count": null,
   "metadata": {},
   "outputs": [],
   "source": [
    "import math\n",
    "\n"
   ]
  }
 ],
 "metadata": {
  "interpreter": {
   "hash": "a6b7599f816571f04de36f89a451e1dde9eaf28907815b59ad7d85869a019043"
  },
  "kernelspec": {
   "display_name": "Python 3.8.8 64-bit ('homework': conda)",
   "language": "python",
   "name": "python3"
  },
  "language_info": {
   "codemirror_mode": {
    "name": "ipython",
    "version": 3
   },
   "file_extension": ".py",
   "mimetype": "text/x-python",
   "name": "python",
   "nbconvert_exporter": "python",
   "pygments_lexer": "ipython3",
   "version": "3.8.8"
  },
  "orig_nbformat": 4
 },
 "nbformat": 4,
 "nbformat_minor": 2
}
