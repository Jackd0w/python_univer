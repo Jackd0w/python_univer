{
 "cells": [
  {
   "cell_type": "markdown",
   "metadata": {},
   "source": [
    "Лабораторная работа №5"
   ]
  },
  {
   "cell_type": "code",
   "execution_count": 3,
   "metadata": {},
   "outputs": [
    {
     "name": "stdout",
     "output_type": "stream",
     "text": [
      "1\n"
     ]
    }
   ],
   "source": [
    "import os\n",
    "\n",
    "matr_in =  [[1, 2, 3],\n",
    "            [4, 5, 6],\n",
    "            [0, 7, 8]]\n",
    "\n",
    "def matrix(matr_in):\n",
    "    for i in range(len(matr_in)):\n",
    "        for k in range(len(matr_in)):\n",
    "            if matr_in[k][i] == 0:\n",
    "                return i + 1\n",
    "\n",
    "print(matrix(matr_in))\n",
    "\n",
    "\n"
   ]
  },
  {
   "cell_type": "code",
   "execution_count": 5,
   "metadata": {},
   "outputs": [],
   "source": [
    "import os\n",
    "\n",
    "matr_2 = [[]]\n",
    "\n",
    "\n",
    "def transpon(matr_2):\n",
    "    sum, max = 0\n",
    "    for i in range(len(matr_2)):\n",
    "        for k in range(len(matr_2)):\n",
    "            if (matr_2[i][k] < 0 and matr_2[i][k]%2) == 0:\n",
    "                sum += matr_2[i][k]\n",
    "                if sum > max:\n",
    "                    matr_2[i][k] = matr_2[1][k]"
   ]
  }
 ],
 "metadata": {
  "interpreter": {
   "hash": "a6b7599f816571f04de36f89a451e1dde9eaf28907815b59ad7d85869a019043"
  },
  "kernelspec": {
   "display_name": "Python 3.8.8 ('homework')",
   "language": "python",
   "name": "python3"
  },
  "language_info": {
   "codemirror_mode": {
    "name": "ipython",
    "version": 3
   },
   "file_extension": ".py",
   "mimetype": "text/x-python",
   "name": "python",
   "nbconvert_exporter": "python",
   "pygments_lexer": "ipython3",
   "version": "3.8.8"
  },
  "orig_nbformat": 4
 },
 "nbformat": 4,
 "nbformat_minor": 2
}
