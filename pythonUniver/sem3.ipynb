{
 "cells": [
  {
   "cell_type": "code",
   "execution_count": 41,
   "metadata": {},
   "outputs": [
    {
     "name": "stdout",
     "output_type": "stream",
     "text": [
      "-0.005063656411097588\n",
      "831667.6666666667\n"
     ]
    }
   ],
   "source": [
    "import math\n",
    "from math import e\n",
    "\n",
    "x = 100\n",
    "s = 1\n",
    "t = 1\n",
    "n = 1\n",
    "\n",
    "eps = 1*e - 10\n",
    "while math.fabs(t) > eps:\n",
    "    t *= (-x * x)/ ((2*n)*(2*n+1))\n",
    "    n += 1\n",
    "    s += t\n",
    "    if ((math.sin(x)/x) - s < eps):\n",
    "        break\n",
    "    \n",
    "\n",
    "print(math.sin(x)/x)\n",
    "print(s)"
   ]
  },
  {
   "cell_type": "markdown",
   "metadata": {},
   "source": [
    "Лабораторная работа №4"
   ]
  },
  {
   "cell_type": "code",
   "execution_count": 52,
   "metadata": {},
   "outputs": [
    {
     "name": "stdout",
     "output_type": "stream",
     "text": [
      "4\n"
     ]
    }
   ],
   "source": [
    "import numpy as np\n",
    "\n",
    "n = int(input())\n",
    "C = int(input())\n",
    "col = 0\n",
    "\n",
    "x = np.random.randint(100, size=n)\n",
    "\n",
    "for i in range(n):\n",
    "    if C > x[i]:\n",
    "        col += 1\n",
    "\n",
    "print(col)\n"
   ]
  }
 ],
 "metadata": {
  "interpreter": {
   "hash": "a6b7599f816571f04de36f89a451e1dde9eaf28907815b59ad7d85869a019043"
  },
  "kernelspec": {
   "display_name": "Python 3.8.8 64-bit ('homework': conda)",
   "language": "python",
   "name": "python3"
  },
  "language_info": {
   "codemirror_mode": {
    "name": "ipython",
    "version": 3
   },
   "file_extension": ".py",
   "mimetype": "text/x-python",
   "name": "python",
   "nbconvert_exporter": "python",
   "pygments_lexer": "ipython3",
   "version": "3.8.8"
  },
  "orig_nbformat": 4
 },
 "nbformat": 4,
 "nbformat_minor": 2
}
