{
 "cells": [
  {
   "cell_type": "code",
   "execution_count": 1,
   "metadata": {},
   "outputs": [
    {
     "name": "stdout",
     "output_type": "stream",
     "text": [
      "40769852399671.984\n"
     ]
    }
   ],
   "source": [
    "import math\n",
    "\n",
    "\n",
    "def main(z):\n",
    "    if z < 82:\n",
    "        a_1 = pow(math.atan(41*pow(z, 3) + z + 1), 3)\n",
    "        a_2 = pow(math.cos(z), 6) + pow(z, 5)\n",
    "        return a_1 - a_2\n",
    "    if z >= 82 and z < 178:\n",
    "        b_1 = pow(z/27 + z**2 + z**3, 6)\n",
    "        b_2 = pow(math.log(35*(z**2)), 7) / 5\n",
    "        return b_1 - b_2\n",
    "    if z >= 178 and z < 249:\n",
    "        c_1 = pow(math.log(z), 6)\n",
    "        c_2 = pow(z, 7) / 96\n",
    "        return c_1 - c_2\n",
    "    if z >= 249:\n",
    "        d_1 = 31*pow(math.log(z), 7) \n",
    "        d_2 = 25*pow(math.floor(z), 5)\n",
    "        d_3 = z**3\n",
    "        return d_1 + d_2 + d_3\n",
    "\n",
    "print(main(277))"
   ]
  },
  {
   "cell_type": "code",
   "execution_count": 23,
   "metadata": {},
   "outputs": [
    {
     "name": "stdout",
     "output_type": "stream",
     "text": [
      "-1384082598951577.2\n"
     ]
    }
   ],
   "source": [
    "import math\n",
    "\n",
    "\n",
    "def main(b, a, n, p):\n",
    "    sum = 0\n",
    "\n",
    "    for i in range(1, n + 1):\n",
    "        for c in range(1, a + 1):\n",
    "            for j in range(1, b + 1):\n",
    "                a_1 = 7*pow(pow(i, 2) - 56*pow(j, 3) - 5*p, 4)\n",
    "                a_2 = 32*pow(c, 5)\n",
    "                sum +=  48 - a_1 - a_2\n",
    "    return(sum)\n",
    "\n",
    "\n",
    "print(main(3, 5, 8, 0.33))"
   ]
  },
  {
   "cell_type": "code",
   "execution_count": 28,
   "metadata": {},
   "outputs": [
    {
     "name": "stdout",
     "output_type": "stream",
     "text": [
      "-0.019577276595744684\n"
     ]
    }
   ],
   "source": [
    "import math\n",
    "\n",
    "\n",
    "def main(n):\n",
    "    if n == 0:\n",
    "        return 0.01\n",
    "    elif n == 1:\n",
    "        return 0.38\n",
    "    elif n >= 2:\n",
    "        f1 = 19 * main(n - 2)\n",
    "        f2 = 37 * pow(main(n - 1), 3)\n",
    "        return (f1 - f2)/94\n",
    "\n",
    "print(main(2))"
   ]
  },
  {
   "cell_type": "code",
   "execution_count": 11,
   "metadata": {},
   "outputs": [
    {
     "name": "stdout",
     "output_type": "stream",
     "text": [
      "4.352651303017529\n"
     ]
    }
   ],
   "source": [
    "import math\n",
    "\n",
    "\n",
    "def main(x, y, z):\n",
    "    n = len(y)\n",
    "    sum = 0\n",
    "    for i in range(1, n + 1):\n",
    "        a_1 = y[n - math.ceil(i/3)]\n",
    "        a_2 = pow(x[n - math.ceil(i/2)], 3)\n",
    "        a_3 = pow(z[n - i], 2)\n",
    "        sum += pow(math.log2(90*a_1 + a_2 + 38*a_3), 2)/41\n",
    "\n",
    "    return sum\n",
    "\n",
    "print(main([0.89, -0.53, 0.55, 0.19, -0.32],\n",
    "[-0.95, -0.94, 0.95, 0.25, 0.8],\n",
    "[0.38, -0.87, -0.2, -0.96, -0.34]))\n"
   ]
  },
  {
   "cell_type": "code",
   "execution_count": 58,
   "metadata": {},
   "outputs": [
    {
     "name": "stdout",
     "output_type": "stream",
     "text": [
      "-0.32\n",
      "-0.32\n",
      "-0.32\n"
     ]
    }
   ],
   "source": [
    "x = [0.89, -0.53, 0.55, 0.19, -0.32]\n",
    "y = [-0.27, -0.29, -0.56, 0.13, 0.88]\n",
    "z = [0.94, 0.36, -0.84, 0.65, -0.11]\n",
    "\n",
    "n = len(x) - 1\n",
    "sum = 0\n",
    "for i in range(1, n):\n",
    "    print(x[n + 1 - math.ceil(i/3)])\n",
    "\n",
    "    "
   ]
  }
 ],
 "metadata": {
  "interpreter": {
   "hash": "a6b7599f816571f04de36f89a451e1dde9eaf28907815b59ad7d85869a019043"
  },
  "kernelspec": {
   "display_name": "Python 3.8.8 ('homework')",
   "language": "python",
   "name": "python3"
  },
  "language_info": {
   "codemirror_mode": {
    "name": "ipython",
    "version": 3
   },
   "file_extension": ".py",
   "mimetype": "text/x-python",
   "name": "python",
   "nbconvert_exporter": "python",
   "pygments_lexer": "ipython3",
   "version": "3.8.8"
  },
  "orig_nbformat": 4
 },
 "nbformat": 4,
 "nbformat_minor": 2
}
