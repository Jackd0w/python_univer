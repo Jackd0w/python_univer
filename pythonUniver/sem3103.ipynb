{
 "cells": [
  {
   "cell_type": "markdown",
   "metadata": {},
   "source": [
    "7.4"
   ]
  },
  {
   "cell_type": "code",
   "execution_count": 5,
   "metadata": {},
   "outputs": [
    {
     "name": "stdout",
     "output_type": "stream",
     "text": [
      "Niva\n",
      "1978\n",
      "150000\n",
      "full\n",
      "Russia\n",
      "14.04.2022\n",
      "Ivanov Ivan Ivanovich\n",
      "None\n",
      "Lada\n",
      "1985\n",
      "14000\n",
      "No Breaks\n",
      "Russia\n",
      "13.04.2022\n",
      "Maxim Maximovich Maximov\n",
      "None\n"
     ]
    }
   ],
   "source": [
    "class Car():\n",
    "    def __init__(self, mark, year, price, complect, country, date, fullname):\n",
    "        self.mark = mark\n",
    "        self.year = year\n",
    "        self.price = price\n",
    "        self.complect = complect\n",
    "        self.country = country\n",
    "        self.date = date\n",
    "        self.fullname = fullname\n",
    "\n",
    "    def get_info(self):\n",
    "        print(self.mark)\n",
    "        print(self.year)\n",
    "        print(self.price)\n",
    "        print(self.complect)\n",
    "        print(self.country)\n",
    "        print(self.date)\n",
    "        print(self.fullname)\n",
    "\n",
    "\n",
    "\n",
    "\n",
    "class Used_Car(Car):\n",
    "    def get_condition(self):\n",
    "        return self.condition\n",
    "\n",
    "    def get_user_name(self):\n",
    "        return self.user_name\n",
    "\n",
    "    def get_mileage(self):\n",
    "        return self.mileage\n",
    "\n",
    "\n",
    "class Sport_Car(Car):\n",
    "\n",
    "    def get_startup_time(self):\n",
    "        return self.startup_time\n",
    "\n",
    "    def get_engine_capacity(self):\n",
    "        return self.engine_capacity\n",
    "\n",
    "    def get_power(self):\n",
    "        return self.power\n",
    "\n",
    "\n",
    "class Spec_Car(Car):\n",
    "    def get_type(self):\n",
    "        return self.type\n",
    "\n",
    "    def get_mass(self):\n",
    "        return self.mass\n",
    "\n",
    "    def get_size(self):\n",
    "        return self.size\n",
    "\n",
    "class Car_List():\n",
    "    def __init__(self):\n",
    "        self.list = []\n",
    "\n",
    "    def add(self, car):\n",
    "        self.list.append(car)\n",
    "\n",
    "    def print_all(self):\n",
    "        for car in self.list:\n",
    "            print(car.get_info())\n",
    "\n",
    "if __name__ == \"__main__\":\n",
    "    car_1 = Used_Car(\"Niva\", 1978, 150000, \"full\", \"Russia\", \"14.04.2022\", \"Ivanov Ivan Ivanovich\")\n",
    "    car_2 = Sport_Car(\"Lada\", 1985, 14000, \"No Breaks\", \"Russia\", \"13.04.2022\", \"Maxim Maximovich Maximov\")\n",
    "\n",
    "    car_list = Car_List()\n",
    "    car_list.add(car_1)\n",
    "    car_list.add(car_2)\n",
    "\n",
    "    car_list.print_all()\n"
   ]
  }
 ],
 "metadata": {
  "interpreter": {
   "hash": "2be5faf79681da6f2a61fdfdd5405d65d042280f7fba6178067603e3a2925119"
  },
  "kernelspec": {
   "display_name": "Python 3.10.0 64-bit",
   "language": "python",
   "name": "python3"
  },
  "language_info": {
   "codemirror_mode": {
    "name": "ipython",
    "version": 3
   },
   "file_extension": ".py",
   "mimetype": "text/x-python",
   "name": "python",
   "nbconvert_exporter": "python",
   "pygments_lexer": "ipython3",
   "version": "3.10.0"
  },
  "orig_nbformat": 4
 },
 "nbformat": 4,
 "nbformat_minor": 2
}
