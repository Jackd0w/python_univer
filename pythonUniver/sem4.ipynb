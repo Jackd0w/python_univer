{
 "cells": [
  {
   "cell_type": "markdown",
   "metadata": {},
   "source": [
    "Лабораторная работа №4"
   ]
  },
  {
   "cell_type": "code",
   "execution_count": 6,
   "metadata": {},
   "outputs": [
    {
     "name": "stdout",
     "output_type": "stream",
     "text": [
      "3\n"
     ]
    }
   ],
   "source": [
    "import os\n",
    "\n",
    "\n",
    "array = input().split(' ')\n",
    "C = int(input())\n",
    "num = 0\n",
    "\n",
    "for i in array:\n",
    "    if int(i) > C:\n",
    "        num += 1\n",
    "\n",
    "print(num)\n",
    "    \n"
   ]
  },
  {
   "cell_type": "code",
   "execution_count": 19,
   "metadata": {},
   "outputs": [
    {
     "name": "stdout",
     "output_type": "stream",
     "text": [
      "12\n"
     ]
    }
   ],
   "source": [
    "from functools import reduce\n",
    "\n",
    "a = list(map(int, input().split(' ')))\n",
    "print(reduce(lambda x, y: x * y, [a[i] for i in range(a.index(max(a)) + 1, len(a))]))"
   ]
  },
  {
   "cell_type": "code",
   "execution_count": 8,
   "metadata": {},
   "outputs": [],
   "source": [
    "import numpy as np\n"
   ]
  },
  {
   "cell_type": "code",
   "execution_count": 10,
   "metadata": {},
   "outputs": [
    {
     "name": "stdout",
     "output_type": "stream",
     "text": [
      "0.5498802723888698\n",
      "0.5394851145052325\n",
      "0.48013597408223235\n",
      "0.5108406528781189\n",
      "0.5012747790277711\n",
      "0.47990499582980045\n",
      "0.5607357096247741\n",
      "0.46137344901979427\n",
      "0.4775130337177799\n",
      "0.4736350948653044\n",
      "0.5356755473402702\n",
      "0.443882504408967\n",
      "0.4978960532207489\n",
      "0.5091028829762524\n",
      "0.524851604940056\n",
      "0.5216837890745052\n",
      "0.521570252316384\n",
      "0.4964122183283943\n",
      "0.5003092075113447\n",
      "0.4444622343328241\n",
      "0.5319760868386019\n",
      "0.5037510232348325\n",
      "0.5357484170915677\n",
      "0.493774117994411\n",
      "0.4575514606462179\n"
     ]
    }
   ],
   "source": [
    "a = np.random.random((100, 100))\n",
    "for i in range(0, 100, 4):\n",
    "    print(np.mean(a[:][i]))"
   ]
  },
  {
   "cell_type": "code",
   "execution_count": 16,
   "metadata": {},
   "outputs": [
    {
     "name": "stdout",
     "output_type": "stream",
     "text": [
      "[1, [5, 3], [4, 5], 6]\n"
     ]
    }
   ],
   "source": [
    "from copy import copy, deepcopy\n",
    "\n",
    "x = [1, [2, 3], [4, 5], 6]\n",
    "y = copy(x)\n",
    "\n",
    "y[1][0] = 5\n",
    "print(x)"
   ]
  },
  {
   "cell_type": "code",
   "execution_count": 18,
   "metadata": {},
   "outputs": [
    {
     "name": "stdout",
     "output_type": "stream",
     "text": [
      "[1, [2, 3], [4, 5], 6]\n"
     ]
    }
   ],
   "source": [
    "from copy import copy, deepcopy\n",
    "x = [1, [2, 3], [4, 5], 6]\n",
    "y = deepcopy(x)\n",
    "\n",
    "y[2][1] = 6\n",
    "print(x)"
   ]
  }
 ],
 "metadata": {
  "interpreter": {
   "hash": "a6b7599f816571f04de36f89a451e1dde9eaf28907815b59ad7d85869a019043"
  },
  "kernelspec": {
   "display_name": "Python 3.8.8 ('homework')",
   "language": "python",
   "name": "python3"
  },
  "language_info": {
   "codemirror_mode": {
    "name": "ipython",
    "version": 3
   },
   "file_extension": ".py",
   "mimetype": "text/x-python",
   "name": "python",
   "nbconvert_exporter": "python",
   "pygments_lexer": "ipython3",
   "version": "3.8.8"
  },
  "orig_nbformat": 4
 },
 "nbformat": 4,
 "nbformat_minor": 2
}
