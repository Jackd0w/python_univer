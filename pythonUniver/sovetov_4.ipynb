{
 "cells": [
  {
   "cell_type": "markdown",
   "metadata": {},
   "source": [
    "Задача №6"
   ]
  },
  {
   "cell_type": "code",
   "execution_count": 1,
   "metadata": {},
   "outputs": [],
   "source": [
    "import numpy as np\n",
    "\n",
    "\n",
    "def main(x):\n",
    "    if x[4] == 2003:\n",
    "        return 11\n",
    "    elif x[4] == 1996:\n",
    "        if x[3] == 'ECL':\n",
    "            if x[0] == 1972:\n",
    "                if x[2] == 1996:\n",
    "                    return 0\n",
    "                elif x[2] == 1992:\n",
    "                    return 1\n",
    "            elif x[0] == 2010:\n",
    "                return 2\n",
    "            elif x[0] == 2014:\n",
    "                return 3\n",
    "        elif x[3] == 'COOL':\n",
    "            if x[0] == 1972:\n",
    "                if x[2] == 1996:\n",
    "                    return 4\n",
    "                elif x[2] == 1992:\n",
    "                    return 5\n",
    "            elif x[0] == 2010:\n",
    "                return 6\n",
    "            elif x[0] == 2014:\n",
    "                if x[1] == 'E':\n",
    "                    return 7\n",
    "                elif x[1] == 'SHELL':\n",
    "                    return 8\n",
    "                elif x[1] == 'XTEND':\n",
    "                    return 9\n",
    "        elif x[3] == 'YACC':\n",
    "            return 10\n"
   ]
  },
  {
   "cell_type": "code",
   "execution_count": null,
   "metadata": {},
   "outputs": [],
   "source": [
    "def main(x):\n",
    "    if x[4] == 2003:\n",
    "        return 11\n",
    "    elif x[4] == 1996:\n",
    "        main(x[3])\n",
    "    elif x[3] == 'ECL' or x[3] == 'COOL':\n",
    "        main(x)\n",
    "    elif x[3] == 'YACC':\n",
    "        return 10\n",
    "    elif x[0] == 1972:\n",
    "        main(x)\n",
    "    elif x[0] == 2010:\n",
    "        return 2\n",
    "    elif x[0] == 2014:\n",
    "        return 3\n",
    "    elif x[0] == 1972:\n",
    "        main(x)\n",
    "    elif x[0] == 2010:\n",
    "        return 6\n",
    "    elif x[0] == 2014:\n",
    "        main(x)\n",
    "    elif x[2] == 1996:\n",
    "        return 0\n",
    "    elif x[2] == 1992:\n",
    "        return 1\n",
    "    elif x[1] == 'E':\n",
    "        return 7\n",
    "    elif x[1] == 'SHELL':\n",
    "        return 8\n",
    "    elif x[1] == 'XTEND':\n",
    "        return 9\n"
   ]
  },
  {
   "cell_type": "code",
   "execution_count": 24,
   "metadata": {},
   "outputs": [],
   "source": [
    "decision_tree = {\n",
    "    '2003': 11,\n",
    "    '1996': {\n",
    "        'ECL': {\n",
    "            '1972': {\n",
    "                '1996': 0,\n",
    "                '1992': 1\n",
    "            },\n",
    "            '2010': 2,\n",
    "            '2014': 3\n",
    "        },\n",
    "        'COOL': {\n",
    "            '1972': {\n",
    "                '1996': 4,\n",
    "                '1992': 5\n",
    "            },\n",
    "            '2010': 6,\n",
    "            '2014': {\n",
    "                'E': 7,\n",
    "                'SHELL': 8,\n",
    "                'XTEND': 9\n",
    "            }\n",
    "        },\n",
    "        'YACC': 10\n",
    "    }\n",
    "}\n",
    "\n",
    "\n",
    "def main(input_lst):\n",
    "    small_tree = decision_tree\n",
    "    while True:\n",
    "        for i in input_lst:\n",
    "            key = str(i)\n",
    "            if key in small_tree.keys():\n",
    "                small_tree = small_tree[key]\n",
    "            if isinstance(small_tree, int):\n",
    "                return small_tree\n"
   ]
  },
  {
   "cell_type": "code",
   "execution_count": 25,
   "metadata": {},
   "outputs": [],
   "source": [
    "input_lst = [1972, 'SHELL', 1996, 'COOL', 1996]"
   ]
  },
  {
   "cell_type": "code",
   "execution_count": 26,
   "metadata": {},
   "outputs": [
    {
     "data": {
      "text/plain": [
       "4"
      ]
     },
     "execution_count": 26,
     "metadata": {},
     "output_type": "execute_result"
    }
   ],
   "source": [
    "main(input_lst)"
   ]
  },
  {
   "cell_type": "markdown",
   "metadata": {},
   "source": [
    "Задача №8"
   ]
  },
  {
   "cell_type": "code",
   "execution_count": 31,
   "metadata": {},
   "outputs": [
    {
     "name": "stdout",
     "output_type": "stream",
     "text": [
      "['celate_823', 'inined_892']\n",
      "['atara_858', 'bianxe']\n",
      "['zacean', 'bima']\n"
     ]
    },
    {
     "data": {
      "text/plain": [
       "{'inined_892': 'celate_823', 'bianxe': 'atara_858', 'bima': 'zacean'}"
      ]
     },
     "execution_count": 31,
     "metadata": {},
     "output_type": "execute_result"
    }
   ],
   "source": [
    "import re\n",
    "\n",
    "input_str = \"| <sect>auto celate_823 |> inined_892; </sect><sect> auto atara_858|>\\nbianxe; </sect> <sect> auto zacean |> bima; </sect> |\"\n",
    "\n",
    "\n",
    "def main(input_str):\n",
    "    input_list = input_str.split(';')\n",
    "    output_str = {}\n",
    "    for i in input_list[:len(input_list)-1]:\n",
    "        i = i.replace(\"|>\", \" \")\n",
    "        i = i.replace(\"|\", \" \")\n",
    "        i = i.replace(\"<sect>\", \" \")\n",
    "        i = i.replace(\"</sect>\", \" \")\n",
    "        i = i.replace(\"auto\", \" \")\n",
    "        i = i.replace(\"\\n\", \" \")\n",
    "        i = i.split(\" \")\n",
    "\n",
    "        while(\"\" in i):\n",
    "            i.remove(\"\")\n",
    "        key = i[1]\n",
    "        output_str[key] = i[0]\n",
    "    return(output_str)\n",
    "\n",
    "main(input_str)"
   ]
  },
  {
   "cell_type": "markdown",
   "metadata": {},
   "source": [
    "Задание 7"
   ]
  },
  {
   "cell_type": "code",
   "execution_count": 33,
   "metadata": {},
   "outputs": [
    {
     "name": "stdout",
     "output_type": "stream",
     "text": [
      "bytearray(b'.\\xf0\\xf1\\xf2')\n"
     ]
    }
   ],
   "source": [
    "print(bytearray.fromhex('2Ef0 F1f2  '))\n"
   ]
  },
  {
   "cell_type": "code",
   "execution_count": 4,
   "metadata": {},
   "outputs": [
    {
     "name": "stdout",
     "output_type": "stream",
     "text": [
      "4\n"
     ]
    }
   ],
   "source": [
    "from statistics import median\n",
    "\n",
    "x = [1, 5, -8, 4, 2, 4, -9, 12, 11]\n",
    "print(median(x))"
   ]
  },
  {
   "cell_type": "markdown",
   "metadata": {},
   "source": [
    "Задание 7"
   ]
  },
  {
   "cell_type": "code",
   "execution_count": 2,
   "metadata": {},
   "outputs": [
    {
     "name": "stdout",
     "output_type": "stream",
     "text": [
      "4140831990\n"
     ]
    }
   ],
   "source": [
    "def main(x):\n",
    "    a = x & 0b11111\n",
    "    b = (x >> 5) & 0b1111111111\n",
    "    c = (x >> 15) & 0b1111\n",
    "    d = (x >> 19) & 0b111111111\n",
    "    e = (x >> 28) & 0b111\n",
    "    f = (x >> 31) & 0b1\n",
    "    res = f | (b << 1) | (d << 11) | (a << 20) | (e << 25) | (c << 28)\n",
    "    return res\n",
    "\n",
    "\n",
    "if __name__ == \"__main__\":\n",
    "    print(main(0x3017cf6d))"
   ]
  },
  {
   "cell_type": "markdown",
   "metadata": {},
   "source": [
    "Задание 9"
   ]
  },
  {
   "cell_type": "code",
   "execution_count": 1,
   "metadata": {},
   "outputs": [],
   "source": [
    "from abc import ABC, abstractmethod\n",
    "\n",
    "\n",
    "class P(ABC):\n",
    "    @abstractmethod\n",
    "    def spawn(self, current):\n",
    "        pass\n",
    "\n",
    "    @abstractmethod\n",
    "    def show(self, current):\n",
    "        pass\n",
    "\n",
    "    @abstractmethod\n",
    "    def wreck(self, current):\n",
    "        pass\n",
    "\n",
    "\n",
    "class A(P):\n",
    "    def spawn(self, current):\n",
    "        current.current = B()\n",
    "        return 0\n",
    "\n",
    "    def show(self, current):\n",
    "        current.current = F()\n",
    "        return 2\n",
    "\n",
    "    def wreck(self, current):\n",
    "        current.current = G()\n",
    "        return 1\n",
    "\n",
    "\n",
    "class B(P):\n",
    "    def spawn(self, current):\n",
    "        current.current = H()\n",
    "        return 4\n",
    "\n",
    "    def wreck(self, current):\n",
    "        raise KeyError()\n",
    "\n",
    "    def show(self, current):\n",
    "        current.current = C()\n",
    "        return 3\n",
    "\n",
    "\n",
    "class C(P):\n",
    "    def spawn(self, current):\n",
    "        current.current = D()\n",
    "        return 5\n",
    "\n",
    "    def show(self, current):\n",
    "        raise KeyError()\n",
    "\n",
    "    def wreck(self, current):\n",
    "        raise KeyError()\n",
    "\n",
    "\n",
    "class D(P):\n",
    "    def spawn(self, current):\n",
    "        current.current = A()\n",
    "        return 7\n",
    "\n",
    "    def show(self, current):\n",
    "        raise KeyError()\n",
    "\n",
    "    def wreck(self, current):\n",
    "        current.current = E()\n",
    "        return 6\n",
    "\n",
    "\n",
    "class E(P):\n",
    "    def spawn(self, current):\n",
    "        raise KeyError()\n",
    "\n",
    "    def show(self, current):\n",
    "        current.current = F()\n",
    "        return 8\n",
    "\n",
    "    def wreck(self, current):\n",
    "        raise KeyError()\n",
    "\n",
    "\n",
    "class F(P):\n",
    "    def spawn(self, current):\n",
    "        raise KeyError()\n",
    "\n",
    "    def show(self, current):\n",
    "        raise KeyError()\n",
    "\n",
    "    def wreck(self, current):\n",
    "        current.current = G()\n",
    "        return 9\n",
    "\n",
    "\n",
    "class G(P):\n",
    "    def spawn(self, current):\n",
    "        raise KeyError()\n",
    "\n",
    "    def show(self, current):\n",
    "        raise KeyError()\n",
    "\n",
    "    def wreck(self, current):\n",
    "        current.current = H()\n",
    "        return 10\n",
    "\n",
    "\n",
    "class H(P):\n",
    "    def spawn(self, current):\n",
    "        raise KeyError\n",
    "\n",
    "    def show(self, current):\n",
    "        raise KeyError\n",
    "\n",
    "    def wreck(self, current):\n",
    "        current.current = H()\n",
    "        return 11\n",
    "\n",
    "\n",
    "class Finite_Automata:\n",
    "    def __init__(self):\n",
    "        self.current = A()\n",
    "\n",
    "    def spawn(self):\n",
    "        return self.current.spawn(self)\n",
    "\n",
    "    def show(self):\n",
    "        return self.current.show(self)\n",
    "\n",
    "    def wreck(self):\n",
    "        return self.current.wreck(self)\n",
    "\n",
    "\n",
    "def main():\n",
    "    return Finite_Automata()\n"
   ]
  },
  {
   "cell_type": "markdown",
   "metadata": {},
   "source": [
    "Задание 10"
   ]
  },
  {
   "cell_type": "code",
   "execution_count": 19,
   "metadata": {},
   "outputs": [],
   "source": [
    "input_lst = [['lorij30[at]yahoo.com&1', '38%', '38%'], ['bivko47[at]yandex.ru&0', '70%', '70%'], [None, None, None], [None, None, None], ['letidi22[at]yandex.ru&0', '87%', '87%']]"
   ]
  },
  {
   "cell_type": "code",
   "execution_count": 2,
   "metadata": {},
   "outputs": [],
   "source": [
    "def main(input_lst):\n",
    "    outpt_lst = []\n",
    "    first = input_lst[0]\n",
    "    first = list(filter(None, first))\n",
    "    for i in first:\n",
    "        k = i.split('&')\n",
    "        print(k)\n",
    "        if k[1] == '1':\n",
    "            k[0] = 'Выполнено'\n",
    "            del k[1]\n",
    "        else:\n",
    "            k[0] = 'Не выполнено'\n",
    "            del k[1]\n",
    "        \n",
    "    outpt_lst.append(first)\n",
    "\n",
    "    second = input_lst[1]\n",
    "    second = list(filter(None, second))\n",
    "    scd_lst = []\n",
    "    for j in second:\n",
    "        j = j.split('%')\n",
    "        j[0] = f'{int(j[0])/100:.4f}'\n",
    "        scd_lst.append(j[0])\n",
    "        del j[1]\n",
    "\n",
    "    outpt_lst.append(scd_lst)\n",
    "\n",
    "    third = []\n",
    "    third_lst = input_lst[0]\n",
    "    third_lst = list(filter(None, third_lst))\n",
    "    for k in third_lst:\n",
    "        k = k.split(']')\n",
    "        k = k[1]\n",
    "        k = k.split('&')\n",
    "        third.append(k[0])\n",
    "\n",
    "    outpt_lst.append(third)\n",
    "    \n",
    "\n",
    "    return outpt_lst\n"
   ]
  },
  {
   "cell_type": "code",
   "execution_count": 6,
   "metadata": {},
   "outputs": [],
   "source": [
    "def main(input_lst):\n",
    "    outpt_lst = []\n",
    "    for first in input_lst:\n",
    "        first = first[0]\n",
    "        try:\n",
    "            first = first.split('&')\n",
    "        except AttributeError:\n",
    "            first[1] = \"\"\n",
    "        if first[1] == '1':\n",
    "            first[0] = 'Выполнено'\n",
    "            del first[1]\n",
    "        elif first[1] == '0':\n",
    "            first[0] = 'Не выполнено'\n",
    "            del first[1]\n",
    "        \n",
    "    outpt_lst.append(first)\n",
    "\n",
    "    second = input_lst[1]\n",
    "    second = list(filter(None, second))\n",
    "    scd_lst = []\n",
    "    for j in second:\n",
    "        j = j.split('%')\n",
    "        j[0] = f'{int(j[0])/100:.4f}'\n",
    "        scd_lst.append(j[0])\n",
    "        del j[1]\n",
    "\n",
    "    outpt_lst.append(scd_lst)\n",
    "\n",
    "    third = []\n",
    "    third_lst = input_lst[0]\n",
    "    third_lst = list(filter(None, third_lst))\n",
    "    for k in third_lst:\n",
    "        k = k.split(']')\n",
    "        k = k[1]\n",
    "        k = k.split('&')\n",
    "        third.append(k[0])\n",
    "\n",
    "    outpt_lst.append(third)\n",
    "    \n",
    "\n",
    "    return outpt_lst\n"
   ]
  },
  {
   "cell_type": "code",
   "execution_count": 32,
   "metadata": {},
   "outputs": [],
   "source": [
    "def main(input_lst):\n",
    "    output_lst = []\n",
    "    first_lst = []\n",
    "    for i in range(len(input_lst)):\n",
    "        first = input_lst[i]\n",
    "        first = list(filter(None, first))\n",
    "        if len(first) == 0:\n",
    "            del first\n",
    "        else:\n",
    "            first_lst.append(first)\n",
    "\n",
    "    for k in first_lst:\n",
    "        first_str = k[0]\n",
    "        print(first_str)\n",
    "        first_str.split(\"&\")\n",
    "        print(first_str)\n",
    "        if k[1] == '1':\n",
    "            print(k)\n",
    "        else:\n",
    "            pass\n",
    "        "
   ]
  },
  {
   "cell_type": "code",
   "execution_count": 33,
   "metadata": {},
   "outputs": [
    {
     "name": "stdout",
     "output_type": "stream",
     "text": [
      "lorij30[at]yahoo.com&1\n",
      "lorij30[at]yahoo.com&1\n",
      "bivko47[at]yandex.ru&0\n",
      "bivko47[at]yandex.ru&0\n",
      "letidi22[at]yandex.ru&0\n",
      "letidi22[at]yandex.ru&0\n"
     ]
    }
   ],
   "source": [
    "main(input_lst)"
   ]
  },
  {
   "cell_type": "markdown",
   "metadata": {},
   "source": [
    "Задание 10 Исправленное"
   ]
  },
  {
   "cell_type": "code",
   "execution_count": 1,
   "metadata": {},
   "outputs": [],
   "source": [
    "def del_nones(string_lst):\n",
    "    result = []\n",
    "    for string in string_lst:\n",
    "        nones = [item is None for item in string]\n",
    "        if True not in nones:\n",
    "            result.append(string)\n",
    "\n",
    "\n",
    "def del_duplicates(string_lst):\n",
    "    result = []\n",
    "    united = []\n",
    "    stack = []\n",
    "\n",
    "    for string in string_lst:\n",
    "        unif = ''.join(string)\n",
    "        united.append(unif)\n",
    "\n",
    "    for i in range(len(string_lst)):\n",
    "        if united[i] not in stack:\n",
    "            result.append(string_lst[i])\n",
    "            stack.append(united[i])\n",
    "\n",
    "    return result\n",
    "\n",
    "\n",
    "def get_selected_column(string_lst, column):\n",
    "    result = []\n",
    "    for item in string_lst:\n",
    "        if len(item) <= column < 0:\n",
    "            continue\n",
    "        result.append(item[column])\n",
    "    return result\n",
    "\n",
    "\n",
    "def get_string_percentages(string_lst):\n",
    "    result = []\n",
    "    percentages = get_selected_column(string_lst, 0)\n",
    "    for percent in percentages:\n",
    "        value = round(int(percent[:-1]) / 100, 1) if percent[-1] == \"%\" \\\n",
    "            else round(int(percent) / 100, 1)\n",
    "        result.append(str(value))\n",
    "    return result\n",
    "\n",
    "\n",
    "def get_first_part(first_part: str) -> str:\n",
    "    number = first_part.split()[-1].split('-')\n",
    "    return ''.join(number)\n",
    "\n",
    "\n",
    "def get_second_part(second_part: str) -> str:\n",
    "    mail = second_part.split(\"[at]\")[0]\n",
    "    return mail\n",
    "\n",
    "\n",
    "def get_string_users(string_lst):\n",
    "    result = []\n",
    "    users = get_selected_column(string_lst, 1)\n",
    "    for user in users:\n",
    "        first_part, second_part = str(user).split('&')\n",
    "        first_part = get_first_part(first_part)\n",
    "        second_part = get_second_part(second_part)\n",
    "        result.append((first_part, second_part))\n",
    "    return result\n",
    "\n",
    "\n",
    "def get_string_conditions(string_lst):\n",
    "    conditions = get_selected_column(string_lst, 2)\n",
    "    result = [\"Да\" if condition == \"true\"\n",
    "              else \"Нет\" for condition in conditions]\n",
    "    return result\n",
    "\n",
    "\n",
    "def main(table):\n",
    "    table = del_nones(table)\n",
    "    table = del_duplicates(table)\n",
    "    percentages = get_string_percentages(table)\n",
    "    users = get_string_users(table)\n",
    "    conditions = get_string_conditions(table)\n",
    "\n",
    "    result_table = [percentages]\n",
    "    id_users = [user[0] for user in users]\n",
    "    name_users = [user[1] for user in users]\n",
    "    result_table.append(id_users)\n",
    "    result_table.append(conditions)\n",
    "    result_table.append(name_users)\n",
    "    return result_table\n"
   ]
  }
 ],
 "metadata": {
  "interpreter": {
   "hash": "a6b7599f816571f04de36f89a451e1dde9eaf28907815b59ad7d85869a019043"
  },
  "kernelspec": {
   "display_name": "Python 3.8.8 ('homework')",
   "language": "python",
   "name": "python3"
  },
  "language_info": {
   "codemirror_mode": {
    "name": "ipython",
    "version": 3
   },
   "file_extension": ".py",
   "mimetype": "text/x-python",
   "name": "python",
   "nbconvert_exporter": "python",
   "pygments_lexer": "ipython3",
   "version": "3.8.8"
  },
  "orig_nbformat": 4
 },
 "nbformat": 4,
 "nbformat_minor": 2
}
